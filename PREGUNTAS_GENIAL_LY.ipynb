{
  "nbformat": 4,
  "nbformat_minor": 0,
  "metadata": {
    "colab": {
      "name": "PREGUNTAS GENIAL.LY.ipynb",
      "provenance": [],
      "authorship_tag": "ABX9TyNcbKINfgcN+OMCRWvDY+Ta",
      "include_colab_link": true
    },
    "kernelspec": {
      "name": "python3",
      "display_name": "Python 3"
    },
    "language_info": {
      "name": "python"
    }
  },
  "cells": [
    {
      "cell_type": "markdown",
      "metadata": {
        "id": "view-in-github",
        "colab_type": "text"
      },
      "source": [
        "<a href=\"https://colab.research.google.com/github/VictorHerrera10/CC31-Alg-y-estru/blob/main/PREGUNTAS_GENIAL_LY.ipynb\" target=\"_parent\"><img src=\"https://colab.research.google.com/assets/colab-badge.svg\" alt=\"Open In Colab\"/></a>"
      ]
    },
    {
      "cell_type": "markdown",
      "metadata": {
        "id": "qa90SL0cl98c"
      },
      "source": [
        "**PREGUNTA 1**\n",
        "Struct se presencia como una estructura publica, mientras que class son privados por defecto."
      ]
    },
    {
      "cell_type": "markdown",
      "metadata": {
        "id": "AzLBGe8Imacc"
      },
      "source": [
        "**PREGUNTA 2** La herencia publica puede ser usada por otras clases que necesiten de ella hacienda uso de su clase base a través de las clases derivadas. La herencia protegida no puede usar partes de la clase base, pero pueden estar disponibles para subclases derivadas."
      ]
    },
    {
      "cell_type": "markdown",
      "metadata": {
        "id": "xCZIr2_8mmft"
      },
      "source": [
        "**PREGUNTA 3** Si se señala dentro del código las partes reescritas provenientes de la clase base si se daría función a esta, pues en la clase derivada pues no se hace modificación de la clase base el cual solo se hace uso algunas cosas en las clases derivadas."
      ]
    },
    {
      "cell_type": "markdown",
      "metadata": {
        "id": "iSd0q5bdmrKc"
      },
      "source": [
        "**PREGUNTA 4** Se crea una clase abstracta cuando se declara los métodos, pero no se hace uso de ellos."
      ]
    },
    {
      "cell_type": "markdown",
      "metadata": {
        "id": "aCi4SxrkmvAA"
      },
      "source": [
        "**PREGUNTA 5** Marcaria error, pues tiene métodos y constructores los cuales no se puede hacer uso al ser abstractos."
      ]
    },
    {
      "cell_type": "markdown",
      "metadata": {
        "id": "e4YmwiyKmzL2"
      },
      "source": [
        "**PREGUNTA 6** Los destructores que se usan en las clases se ejecutan cuando se determina que una clase ya alcanzo sus límites, dando por terminada dicha acción en el código."
      ]
    },
    {
      "cell_type": "markdown",
      "metadata": {
        "id": "2a2h-8wmm6w_"
      },
      "source": [
        "**PREGUNTA 7** Se asigna memoria a los arreglos mediante operadores como new, y para liberar la memoria delete."
      ]
    },
    {
      "cell_type": "markdown",
      "metadata": {
        "id": "o5pq5DNrnBfn"
      },
      "source": [
        "**PREGUNTA 8** Se creo sobrecarga de operadores para generar distintas condiciones dentro de una clase."
      ]
    },
    {
      "cell_type": "markdown",
      "metadata": {
        "id": "5u5B5lpMnGs_"
      },
      "source": [
        "**PREGUNTA 9** La abstracción sirve para ignorar detalles mientras que el encapsulamiento envuelve en una capa que sirve como protección."
      ]
    },
    {
      "cell_type": "markdown",
      "metadata": {
        "id": "0OxMvekenKF7"
      },
      "source": [
        "**PREGUNTA 10** La clase derivada se ejecuta primeramente pues la clase base es usada como herencia para las clases derivadas que hacen uso de sus miembros dentro de él."
      ]
    },
    {
      "cell_type": "markdown",
      "metadata": {
        "id": "2Z1YrME9nPR1"
      },
      "source": [
        "**PREGUNTA 11** Al declarar clases derivadas de una clase base los objetos mostrados dentro de las derivadas su a su vez de la clase base."
      ]
    },
    {
      "cell_type": "markdown",
      "metadata": {
        "id": "41506kD4rdck"
      },
      "source": [
        "**PREGUNTA 12** La herencia se usó para determinar una clase base con las cuales se escribiría miembros importantes como el movimiento de objetos las cuales se compartía en las distintas clases derivadas."
      ]
    },
    {
      "cell_type": "markdown",
      "metadata": {
        "id": "jPpKjSimrjBa"
      },
      "source": [
        "**PREGUNTA 13** Es la librería estándar que se usa en el lenguaje para hacer uso del cout y cin."
      ]
    },
    {
      "cell_type": "markdown",
      "metadata": {
        "id": "xH_bHihLrooY"
      },
      "source": [
        "**PREGUNTA 14** Para usar las clases abstractas se define las funciones que hay que hacer, pero no se especifica como se debe realizar las cuales se determinan ya en las clases derivadas de esta clase base."
      ]
    },
    {
      "cell_type": "markdown",
      "metadata": {
        "id": "qqP5kX_PrtGd"
      },
      "source": [
        "**PREGUNTA 15** Es una estructura que almacena datos y las ordena, pero a la vez se puede recuperar."
      ]
    },
    {
      "cell_type": "markdown",
      "metadata": {
        "id": "p3WzVQF_rxeo"
      },
      "source": [
        "**PREGUNTA 16** Se uso el polimorfismo en el trabajo para conectar las diversas clases y sus funciones que formaría el juego final, tales como colisiones y movimientos."
      ]
    },
    {
      "cell_type": "markdown",
      "metadata": {
        "id": "Lf0CQn8Gr1fW"
      },
      "source": [
        "**PREGUNTA 17** Son enlaces con las cuales se puede copilar un código y modificar el comportamiento de este."
      ]
    },
    {
      "cell_type": "markdown",
      "metadata": {
        "id": "2ZJQP6yOr471"
      },
      "source": [
        "**PREGUNTA 18** En el trabajo final se hizo uso de una estructura de datos estática estructurada para los arreglos y clases desde una base hasta sus derivantes."
      ]
    },
    {
      "cell_type": "markdown",
      "metadata": {
        "id": "BG08qoLSr8ec"
      },
      "source": [
        "**PREGUNTA 19** Se Cierra el archivo para terminar el proceso dentro de la máquina, el programa se puede cerrar automáticamente pues ya no se procesa el código."
      ]
    },
    {
      "cell_type": "markdown",
      "metadata": {
        "id": "CEJWt0PtsAsi"
      },
      "source": [
        "**PREGUNTA 20** Es una división de objetos que se crea por las sub clases con mismas variables."
      ]
    },
    {
      "cell_type": "markdown",
      "metadata": {
        "id": "kr8BwMFjwKje"
      },
      "source": [
        "**PREGUNTA 21** Se uso la librería estándar el cual, ya implementada dentro del programa, También librerías como Math que nos permitió realizar los cálculos de las acciones en el juego."
      ]
    },
    {
      "cell_type": "markdown",
      "metadata": {
        "id": "7Dh4ChuSwpai"
      },
      "source": [
        "**PREGUNTA 22** Se crea para inicializar las instancias de objetos como un conjunto de instrucciones."
      ]
    },
    {
      "cell_type": "markdown",
      "metadata": {
        "id": "szJ8aJ0HwtFh"
      },
      "source": [
        "**PREGUNTA 23** No se generaría correctamente el objeto a mostrar, el cual marcaria como un error dentro del programa"
      ]
    },
    {
      "cell_type": "markdown",
      "metadata": {
        "id": "vTZAjByOwwoU"
      },
      "source": [
        "**PREGUNTA 24** En las funciones como destructor no se especifica argumentos es decir que no devuelve un valor por lo tanto no puede ser sobrecargado."
      ]
    },
    {
      "cell_type": "markdown",
      "metadata": {
        "id": "J1zvlFCYw0OP"
      },
      "source": [
        "**PREGUNTA 25** Vector es una secuencia ordenada de elementos y un Tuple es una secuencia ordenada con una longitud de determinada."
      ]
    },
    {
      "cell_type": "markdown",
      "metadata": {
        "id": "sTKz3N3aw5Vm"
      },
      "source": [
        "**PREGUNTA 26** Primero se llama al constructor base, después a los miembros dentro de la clase base y así al constructor derivado"
      ]
    },
    {
      "cell_type": "markdown",
      "metadata": {
        "id": "7A5rX9Iuw9Mc"
      },
      "source": [
        "**PREGUNTA 27** La agregación es una asociación que muestra la relación de una clase a otra, dentro de ahí se encuentra la composición el cual muestra lo que conforma cada clase."
      ]
    },
    {
      "cell_type": "markdown",
      "metadata": {
        "id": "HXU08tNGxAqH"
      },
      "source": [
        "**PREGUNTA 28** Se gestiona el orden con el cual se creó el código, así buscar el origen y analizar las excepciones que pueden causar error en el código."
      ]
    },
    {
      "cell_type": "markdown",
      "metadata": {
        "id": "EG8iybnJxEoe"
      },
      "source": [
        "**PREGUNTA 29** Las clases derivadas creadas son dependientes de los miembros en una clase base. Esto es una relación de dependencia entre clases."
      ]
    },
    {
      "cell_type": "markdown",
      "metadata": {
        "id": "jzp0IDWlxIIS"
      },
      "source": [
        "**PREGUNTA 30** Se crea una herencia múltiple, si la clase derivada hace uso de distintos miembros de distintas clases base si."
      ]
    },
    {
      "cell_type": "markdown",
      "metadata": {
        "id": "WShvklGzxMAc"
      },
      "source": [
        "**PREGUNTA 31** Las clases derivadas entre si son asociadas a la clase base y entre ellas, pues así se muestras las funciones que tienen como las colisiones de dos objetos."
      ]
    },
    {
      "cell_type": "markdown",
      "metadata": {
        "id": "owg9wdIDmkdp"
      },
      "source": [
        ""
      ]
    }
  ]
}